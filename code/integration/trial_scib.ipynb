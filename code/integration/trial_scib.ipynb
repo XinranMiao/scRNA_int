{
 "cells": [
  {
   "cell_type": "code",
   "execution_count": 1,
   "id": "6f0052e5",
   "metadata": {},
   "outputs": [],
   "source": [
    "import scib\n",
    "import scanpy as sc"
   ]
  },
  {
   "cell_type": "code",
   "execution_count": 7,
   "id": "16de0a1c",
   "metadata": {},
   "outputs": [],
   "source": [
    "adata = sc.read(\"../../data/raw_data/human_pancreas_norm_complexBatch.h5ad\")\n",
    "#adata = sc.read(\"../../derived_data/human_pancreas_norm_complexBatch/multiple/ad_change.h5ad\")"
   ]
  },
  {
   "cell_type": "code",
   "execution_count": 8,
   "id": "a42fa1e9",
   "metadata": {},
   "outputs": [
    {
     "data": {
      "text/plain": [
       "AnnData object with n_obs × n_vars = 16382 × 19093\n",
       "    obs: 'tech', 'celltype', 'size_factors'\n",
       "    layers: 'counts'"
      ]
     },
     "execution_count": 8,
     "metadata": {},
     "output_type": "execute_result"
    }
   ],
   "source": [
    "adata"
   ]
  },
  {
   "cell_type": "code",
   "execution_count": null,
   "id": "b7f15a72",
   "metadata": {
    "scrolled": true
   },
   "outputs": [
    {
     "name": "stdout",
     "output_type": "stream",
     "text": [
      "Found 19093 genes among all datasets\n",
      "[[0.00000000e+00 6.01312910e-01 3.13479624e-02 8.86454183e-02\n",
      "  1.49199793e-01 1.69322709e-02 1.99203187e-03 0.00000000e+00\n",
      "  1.19521912e-02]\n",
      " [0.00000000e+00 0.00000000e+00 1.63009404e-01 4.29321663e-01\n",
      "  1.34228188e-02 2.32018561e-03 4.37636761e-04 0.00000000e+00\n",
      "  6.70241287e-04]\n",
      " [0.00000000e+00 0.00000000e+00 0.00000000e+00 1.08150470e-01\n",
      "  4.70219436e-03 0.00000000e+00 0.00000000e+00 0.00000000e+00\n",
      "  4.04388715e-01]\n",
      " [0.00000000e+00 0.00000000e+00 0.00000000e+00 0.00000000e+00\n",
      "  6.85045948e-02 3.01624130e-02 0.00000000e+00 4.60475825e-03\n",
      "  2.80831099e-01]\n",
      " [0.00000000e+00 0.00000000e+00 0.00000000e+00 0.00000000e+00\n",
      "  0.00000000e+00 4.83178654e-01 6.53588023e-01 5.04221028e-01\n",
      "  6.70241287e-04]\n",
      " [0.00000000e+00 0.00000000e+00 0.00000000e+00 0.00000000e+00\n",
      "  0.00000000e+00 0.00000000e+00 4.42575406e-01 6.77494200e-01\n",
      "  0.00000000e+00]\n",
      " [0.00000000e+00 0.00000000e+00 0.00000000e+00 0.00000000e+00\n",
      "  0.00000000e+00 0.00000000e+00 0.00000000e+00 4.53568688e-01\n",
      "  5.82524272e-03]\n",
      " [0.00000000e+00 0.00000000e+00 0.00000000e+00 0.00000000e+00\n",
      "  0.00000000e+00 0.00000000e+00 0.00000000e+00 0.00000000e+00\n",
      "  3.99079048e-02]\n",
      " [0.00000000e+00 0.00000000e+00 0.00000000e+00 0.00000000e+00\n",
      "  0.00000000e+00 0.00000000e+00 0.00000000e+00 0.00000000e+00\n",
      "  0.00000000e+00]]\n",
      "Processing datasets (5, 7)\n",
      "Processing datasets (4, 6)\n",
      "Processing datasets (0, 1)\n",
      "Processing datasets (4, 7)\n",
      "Processing datasets (4, 5)\n"
     ]
    }
   ],
   "source": [
    "res = scib.integration.scanorama(adata, batch = 'tech')"
   ]
  },
  {
   "cell_type": "code",
   "execution_count": null,
   "id": "83a01268",
   "metadata": {},
   "outputs": [],
   "source": [
    "res"
   ]
  },
  {
   "cell_type": "code",
   "execution_count": null,
   "id": "4de459b4",
   "metadata": {},
   "outputs": [],
   "source": [
    "scib.me.pcr_comparison(adata_pre = adata, adata_post = res, covariate = \"celltype\")"
   ]
  },
  {
   "cell_type": "code",
   "execution_count": null,
   "id": "45ad3d42",
   "metadata": {},
   "outputs": [],
   "source": [
    "?scib.me.kBET\n",
    "scib.me.kBET(adata = res, batch_key = \"tech\", label_key = \"celltype\")"
   ]
  },
  {
   "cell_type": "code",
   "execution_count": 35,
   "id": "1421a312",
   "metadata": {},
   "outputs": [],
   "source": [
    "?scib.me.silhouette"
   ]
  },
  {
   "cell_type": "code",
   "execution_count": 37,
   "id": "49630a18",
   "metadata": {
    "scrolled": true
   },
   "outputs": [
    {
     "name": "stdout",
     "output_type": "stream",
     "text": [
      "KeysView(AxisArrays with keys: X_scanorama, X_emb)\n"
     ]
    },
    {
     "ename": "KeyError",
     "evalue": "'X_pca not in obsm'",
     "output_type": "error",
     "traceback": [
      "\u001b[0;31m---------------------------------------------------------------------------\u001b[0m",
      "\u001b[0;31mKeyError\u001b[0m                                  Traceback (most recent call last)",
      "\u001b[0;32m<ipython-input-37-92c7df3c0ffe>\u001b[0m in \u001b[0;36m<module>\u001b[0;34m\u001b[0m\n\u001b[0;32m----> 1\u001b[0;31m \u001b[0mscib\u001b[0m\u001b[0;34m.\u001b[0m\u001b[0mme\u001b[0m\u001b[0;34m.\u001b[0m\u001b[0msilhouette\u001b[0m\u001b[0;34m(\u001b[0m\u001b[0madata\u001b[0m \u001b[0;34m=\u001b[0m \u001b[0mres\u001b[0m\u001b[0;34m,\u001b[0m \u001b[0membed\u001b[0m \u001b[0;34m=\u001b[0m \u001b[0;34m'X_pca'\u001b[0m\u001b[0;34m,\u001b[0m \u001b[0mgroup_key\u001b[0m \u001b[0;34m=\u001b[0m \u001b[0;34m\"final_cell_label\"\u001b[0m\u001b[0;34m)\u001b[0m\u001b[0;34m\u001b[0m\u001b[0m\n\u001b[0m",
      "\u001b[0;32m~/anaconda3/lib/python3.7/site-packages/scib/metrics/silhouette.py\u001b[0m in \u001b[0;36msilhouette\u001b[0;34m(adata, group_key, embed, metric, scale)\u001b[0m\n\u001b[1;32m     23\u001b[0m     \u001b[0;32mif\u001b[0m \u001b[0membed\u001b[0m \u001b[0;32mnot\u001b[0m \u001b[0;32min\u001b[0m \u001b[0madata\u001b[0m\u001b[0;34m.\u001b[0m\u001b[0mobsm\u001b[0m\u001b[0;34m.\u001b[0m\u001b[0mkeys\u001b[0m\u001b[0;34m(\u001b[0m\u001b[0;34m)\u001b[0m\u001b[0;34m:\u001b[0m\u001b[0;34m\u001b[0m\u001b[0m\n\u001b[1;32m     24\u001b[0m         \u001b[0mprint\u001b[0m\u001b[0;34m(\u001b[0m\u001b[0madata\u001b[0m\u001b[0;34m.\u001b[0m\u001b[0mobsm\u001b[0m\u001b[0;34m.\u001b[0m\u001b[0mkeys\u001b[0m\u001b[0;34m(\u001b[0m\u001b[0;34m)\u001b[0m\u001b[0;34m)\u001b[0m\u001b[0;34m\u001b[0m\u001b[0m\n\u001b[0;32m---> 25\u001b[0;31m         \u001b[0;32mraise\u001b[0m \u001b[0mKeyError\u001b[0m\u001b[0;34m(\u001b[0m\u001b[0;34mf'{embed} not in obsm'\u001b[0m\u001b[0;34m)\u001b[0m\u001b[0;34m\u001b[0m\u001b[0m\n\u001b[0m\u001b[1;32m     26\u001b[0m     asw = silhouette_score(\n\u001b[1;32m     27\u001b[0m         \u001b[0mX\u001b[0m\u001b[0;34m=\u001b[0m\u001b[0madata\u001b[0m\u001b[0;34m.\u001b[0m\u001b[0mobsm\u001b[0m\u001b[0;34m[\u001b[0m\u001b[0membed\u001b[0m\u001b[0;34m]\u001b[0m\u001b[0;34m,\u001b[0m\u001b[0;34m\u001b[0m\u001b[0m\n",
      "\u001b[0;31mKeyError\u001b[0m: 'X_pca not in obsm'"
     ]
    }
   ],
   "source": [
    "scib.me.silhouette(adata = res, embed = 'X_pca', group_key = \"final_cell_label\")"
   ]
  }
 ],
 "metadata": {
  "kernelspec": {
   "display_name": "Python 3",
   "language": "python",
   "name": "python3"
  },
  "language_info": {
   "codemirror_mode": {
    "name": "ipython",
    "version": 3
   },
   "file_extension": ".py",
   "mimetype": "text/x-python",
   "name": "python",
   "nbconvert_exporter": "python",
   "pygments_lexer": "ipython3",
   "version": "3.7.0"
  }
 },
 "nbformat": 4,
 "nbformat_minor": 5
}
