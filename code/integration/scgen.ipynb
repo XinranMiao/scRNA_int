{
 "cells": [
  {
   "cell_type": "code",
   "execution_count": 1,
   "id": "e15c4fc0",
   "metadata": {},
   "outputs": [
    {
     "name": "stderr",
     "output_type": "stream",
     "text": [
      "/Users/miaoxinran/anaconda3/lib/python3.7/site-packages/packaging/version.py:130: DeprecationWarning: Creating a LegacyVersion has been deprecated and will be removed in the next major release\n",
      "  DeprecationWarning,\n",
      "Global seed set to 0\n"
     ]
    }
   ],
   "source": [
    "import os\n",
    "import pandas as pd\n",
    "\n",
    "\n",
    "import glob\n",
    "import scib\n",
    "import scanpy as sc\n",
    "import scvi\n",
    "\n",
    "from pathlib import Path\n",
    "from data_manage import *"
   ]
  },
  {
   "cell_type": "code",
   "execution_count": 2,
   "id": "3c264d6a",
   "metadata": {},
   "outputs": [
    {
     "name": "stderr",
     "output_type": "stream",
     "text": [
      "/Users/miaoxinran/anaconda3/lib/python3.7/site-packages/ipykernel/ipkernel.py:287: DeprecationWarning: `should_run_async` will not call `transform_cell` automatically in the future. Please pass the result to `transformed_cell` argument and any exception that happen during thetransform in `preprocessing_exc_tuple` in IPython 7.17 and above.\n",
      "  and should_run_async(code)\n"
     ]
    },
    {
     "ename": "ModuleNotFoundError",
     "evalue": "No module named 'scgen'",
     "output_type": "error",
     "traceback": [
      "\u001b[0;31m---------------------------------------------------------------------------\u001b[0m",
      "\u001b[0;31mModuleNotFoundError\u001b[0m                       Traceback (most recent call last)",
      "\u001b[0;32m<ipython-input-2-6de7ac799e2e>\u001b[0m in \u001b[0;36m<module>\u001b[0;34m\u001b[0m\n\u001b[0;32m----> 1\u001b[0;31m \u001b[0;32mimport\u001b[0m \u001b[0mscgen\u001b[0m\u001b[0;34m\u001b[0m\u001b[0m\n\u001b[0m",
      "\u001b[0;31mModuleNotFoundError\u001b[0m: No module named 'scgen'"
     ]
    }
   ],
   "source": [
    "import scgen"
   ]
  },
  {
   "cell_type": "markdown",
   "id": "55cdd0f6",
   "metadata": {},
   "source": [
    "## scvi follow tutorial: https://docs.scvi-tools.org/en/stable/tutorials/notebooks/harmonization.html"
   ]
  },
  {
   "cell_type": "code",
   "execution_count": 3,
   "id": "5a95fe9b",
   "metadata": {},
   "outputs": [],
   "source": [
    "ad_file_paths = glob.glob(\"../../results/simulation/test/derived_data/human_pancreas_norm_complexBatch/*/*h5ad\")\n",
    "raw_ad_file_paths = glob.glob(\"../../data/raw_data/*h5ad\")"
   ]
  },
  {
   "cell_type": "code",
   "execution_count": 21,
   "id": "152f8386",
   "metadata": {
    "scrolled": true
   },
   "outputs": [
    {
     "data": {
      "text/plain": [
       "AnnData object with n_obs × n_vars = 16382 × 19093\n",
       "    obs: 'tech', 'celltype', 'size_factors'\n",
       "    layers: 'counts'"
      ]
     },
     "execution_count": 21,
     "metadata": {},
     "output_type": "execute_result"
    }
   ],
   "source": [
    "adata_raw = sc.read(raw_ad_file_paths[0])\n",
    "adata_raw"
   ]
  },
  {
   "cell_type": "code",
   "execution_count": 22,
   "id": "a6007ceb",
   "metadata": {},
   "outputs": [
    {
     "name": "stderr",
     "output_type": "stream",
     "text": [
      "/Users/miaoxinran/anaconda3/lib/python3.7/site-packages/scanpy/preprocessing/_highly_variable_genes.py:64: UserWarning: `flavor='seurat_v3'` expects raw count data, but non-integers were found.\n",
      "  UserWarning,\n"
     ]
    }
   ],
   "source": [
    "adata = sc.read(raw_ad_file_paths[0])\n",
    "sc.pp.highly_variable_genes(\n",
    "    adata,\n",
    "    flavor = \"seurat_v3\",\n",
    "    n_top_genes=2000,\n",
    "    batch_key = \"tech\",\n",
    "    subset = True,\n",
    "    layer=\"counts\"\n",
    ")"
   ]
  },
  {
   "cell_type": "code",
   "execution_count": 23,
   "id": "0c678797",
   "metadata": {},
   "outputs": [
    {
     "name": "stderr",
     "output_type": "stream",
     "text": [
      "/Users/miaoxinran/anaconda3/lib/python3.7/site-packages/scvi/data/fields/_layer_field.py:79: UserWarning: adata.layers[counts] does not contain unnormalized count data. Are you sure this is what you want?\n",
      "  f\"{logger_data_loc} does not contain unnormalized count data. \"\n",
      "GPU available: False, used: False\n",
      "TPU available: False, using: 0 TPU cores\n",
      "IPU available: False, using: 0 IPUs\n"
     ]
    },
    {
     "name": "stdout",
     "output_type": "stream",
     "text": [
      "Epoch 1/1: 100%|██████████| 1/1 [00:03<00:00,  3.27s/it, loss=2.21e+03, v_num=1]\n"
     ]
    }
   ],
   "source": [
    "scvi.model.SCVI.setup_anndata(adata, layer=\"counts\", batch_key=\"tech\")\n",
    "vae = scvi.model.SCVI(adata, n_layers=2, n_latent=30, gene_likelihood=\"nb\")\n",
    "vae.train(max_epochs = 1, early_stopping = True)"
   ]
  },
  {
   "cell_type": "code",
   "execution_count": 24,
   "id": "262c114e",
   "metadata": {},
   "outputs": [
    {
     "name": "stderr",
     "output_type": "stream",
     "text": [
      "/Users/miaoxinran/anaconda3/lib/python3.7/site-packages/ipykernel/ipkernel.py:287: DeprecationWarning: `should_run_async` will not call `transform_cell` automatically in the future. Please pass the result to `transformed_cell` argument and any exception that happen during thetransform in `preprocessing_exc_tuple` in IPython 7.17 and above.\n",
      "  and should_run_async(code)\n"
     ]
    }
   ],
   "source": [
    "adata.obsm[\"X_scVI\"] = vae.get_latent_representation()"
   ]
  },
  {
   "cell_type": "code",
   "execution_count": 26,
   "id": "d57606cb",
   "metadata": {},
   "outputs": [
    {
     "name": "stdout",
     "output_type": "stream",
     "text": [
      "Variance contribution increased after integration!\n",
      "Setting PCR comparison score to 0.\n"
     ]
    },
    {
     "data": {
      "text/plain": [
       "0"
      ]
     },
     "execution_count": 26,
     "metadata": {},
     "output_type": "execute_result"
    }
   ],
   "source": [
    "scib.me.pcr_comparison(adata_pre = adata_raw, adata_post = adata, covariate = \"celltype\")"
   ]
  },
  {
   "cell_type": "code",
   "execution_count": 27,
   "id": "37de0895",
   "metadata": {},
   "outputs": [
    {
     "name": "stderr",
     "output_type": "stream",
     "text": [
      "/Users/miaoxinran/anaconda3/lib/python3.7/site-packages/ipykernel/ipkernel.py:287: DeprecationWarning: `should_run_async` will not call `transform_cell` automatically in the future. Please pass the result to `transformed_cell` argument and any exception that happen during thetransform in `preprocessing_exc_tuple` in IPython 7.17 and above.\n",
      "  and should_run_async(code)\n"
     ]
    },
    {
     "name": "stdout",
     "output_type": "stream",
     "text": [
      "Variance contribution increased after integration!\n",
      "Setting PCR comparison score to 0.\n",
      "0 0.07837369020085136 0.028379073573485902\n"
     ]
    }
   ],
   "source": [
    "pcr = scib.me.pcr_comparison(adata_pre = adata_raw, adata_post = adata, covariate = \"celltype\")\n",
    "nmi = scib.me.nmi(adata = adata, group1 = \"tech\",  group2 = \"celltype\")\n",
    "ari = scib.me.ari(adata = adata, group1 = \"tech\",  group2 = \"celltype\")\n",
    "print(pcr, nmi, ari)"
   ]
  },
  {
   "cell_type": "code",
   "execution_count": 9,
   "id": "085ef7f4",
   "metadata": {},
   "outputs": [
    {
     "ename": "ImportError",
     "evalue": "Please install the leiden algorithm: `conda install -c conda-forge leidenalg` or `pip3 install leidenalg`.",
     "output_type": "error",
     "traceback": [
      "\u001b[0;31m---------------------------------------------------------------------------\u001b[0m",
      "\u001b[0;31mModuleNotFoundError\u001b[0m                       Traceback (most recent call last)",
      "\u001b[0;32m~/anaconda3/lib/python3.7/site-packages/scanpy/tools/_leiden.py\u001b[0m in \u001b[0;36mleiden\u001b[0;34m(adata, resolution, restrict_to, random_state, key_added, adjacency, directed, use_weights, n_iterations, partition_type, neighbors_key, obsp, copy, **partition_kwargs)\u001b[0m\n\u001b[1;32m    107\u001b[0m     \u001b[0;32mtry\u001b[0m\u001b[0;34m:\u001b[0m\u001b[0;34m\u001b[0m\u001b[0m\n\u001b[0;32m--> 108\u001b[0;31m         \u001b[0;32mimport\u001b[0m \u001b[0mleidenalg\u001b[0m\u001b[0;34m\u001b[0m\u001b[0m\n\u001b[0m\u001b[1;32m    109\u001b[0m     \u001b[0;32mexcept\u001b[0m \u001b[0mImportError\u001b[0m\u001b[0;34m:\u001b[0m\u001b[0;34m\u001b[0m\u001b[0m\n",
      "\u001b[0;31mModuleNotFoundError\u001b[0m: No module named 'leidenalg'",
      "\nDuring handling of the above exception, another exception occurred:\n",
      "\u001b[0;31mImportError\u001b[0m                               Traceback (most recent call last)",
      "\u001b[0;32m<ipython-input-9-202471387320>\u001b[0m in \u001b[0;36m<module>\u001b[0;34m\u001b[0m\n\u001b[1;32m      1\u001b[0m \u001b[0;31m#sc.pp.neighbors(adata, use_rep=\"X_scVI\")\u001b[0m\u001b[0;34m\u001b[0m\u001b[0;34m\u001b[0m\u001b[0m\n\u001b[0;32m----> 2\u001b[0;31m \u001b[0msc\u001b[0m\u001b[0;34m.\u001b[0m\u001b[0mtl\u001b[0m\u001b[0;34m.\u001b[0m\u001b[0mleiden\u001b[0m\u001b[0;34m(\u001b[0m\u001b[0madata\u001b[0m\u001b[0;34m)\u001b[0m\u001b[0;34m\u001b[0m\u001b[0m\n\u001b[0m",
      "\u001b[0;32m~/anaconda3/lib/python3.7/site-packages/scanpy/tools/_leiden.py\u001b[0m in \u001b[0;36mleiden\u001b[0;34m(adata, resolution, restrict_to, random_state, key_added, adjacency, directed, use_weights, n_iterations, partition_type, neighbors_key, obsp, copy, **partition_kwargs)\u001b[0m\n\u001b[1;32m    109\u001b[0m     \u001b[0;32mexcept\u001b[0m \u001b[0mImportError\u001b[0m\u001b[0;34m:\u001b[0m\u001b[0;34m\u001b[0m\u001b[0m\n\u001b[1;32m    110\u001b[0m         raise ImportError(\n\u001b[0;32m--> 111\u001b[0;31m             \u001b[0;34m'Please install the leiden algorithm: `conda install -c conda-forge leidenalg` or `pip3 install leidenalg`.'\u001b[0m\u001b[0;34m\u001b[0m\u001b[0m\n\u001b[0m\u001b[1;32m    112\u001b[0m         )\n\u001b[1;32m    113\u001b[0m     \u001b[0mpartition_kwargs\u001b[0m \u001b[0;34m=\u001b[0m \u001b[0mdict\u001b[0m\u001b[0;34m(\u001b[0m\u001b[0mpartition_kwargs\u001b[0m\u001b[0;34m)\u001b[0m\u001b[0;34m\u001b[0m\u001b[0m\n",
      "\u001b[0;31mImportError\u001b[0m: Please install the leiden algorithm: `conda install -c conda-forge leidenalg` or `pip3 install leidenalg`."
     ]
    }
   ],
   "source": [
    "sc.pp.neighbors(adata, use_rep=\"X_scVI\")\n",
    "sc.tl.leiden(adata)"
   ]
  },
  {
   "cell_type": "markdown",
   "id": "37a650f9",
   "metadata": {},
   "source": [
    "## scgen\n",
    "tutorial: https://scgen.readthedocs.io/en/stable/tutorials/scgen_batch_removal.html"
   ]
  },
  {
   "cell_type": "code",
   "execution_count": 2,
   "id": "4d447a34",
   "metadata": {},
   "outputs": [],
   "source": [
    "int_metrics = pd.DataFrame(columns = [\"ad\", \"dataset\", \"c_type\", \"n_cell\", \"cell_times\", \"seq_depth\",\n",
    "                                      \"method\", \"metric\", \"evaluation\"])\n",
    "ad_file_paths = glob.glob(\"../../results/simulation/test/derived_data/human_pancreas_norm_complexBatch/*/*h5ad\")"
   ]
  },
  {
   "cell_type": "code",
   "execution_count": 4,
   "id": "ec985d6d",
   "metadata": {
    "scrolled": true
   },
   "outputs": [
    {
     "name": "stderr",
     "output_type": "stream",
     "text": [
      "/Users/miaoxinran/anaconda3/envs/scvi-env2/lib/python3.9/site-packages/anndata/_io/h5ad.py:238: OldFormatWarning: Element '/X' was written without encoding metadata.\n",
      "  d[k] = read_elem(f[k])\n",
      "/Users/miaoxinran/anaconda3/envs/scvi-env2/lib/python3.9/site-packages/anndata/_io/specs/methods.py:584: OldFormatWarning: Element '/obs/__categories/tech' was written without encoding metadata.\n",
      "  categories = read_elem(categories_dset)\n",
      "/Users/miaoxinran/anaconda3/envs/scvi-env2/lib/python3.9/site-packages/anndata/_io/specs/methods.py:587: OldFormatWarning: Element '/obs/tech' was written without encoding metadata.\n",
      "  read_elem(dataset), categories, ordered=ordered\n",
      "/Users/miaoxinran/anaconda3/envs/scvi-env2/lib/python3.9/site-packages/anndata/_io/specs/methods.py:584: OldFormatWarning: Element '/obs/__categories/celltype' was written without encoding metadata.\n",
      "  categories = read_elem(categories_dset)\n",
      "/Users/miaoxinran/anaconda3/envs/scvi-env2/lib/python3.9/site-packages/anndata/_io/specs/methods.py:587: OldFormatWarning: Element '/obs/celltype' was written without encoding metadata.\n",
      "  read_elem(dataset), categories, ordered=ordered\n",
      "/Users/miaoxinran/anaconda3/envs/scvi-env2/lib/python3.9/site-packages/anndata/_io/specs/methods.py:590: OldFormatWarning: Element '/obs/size_factors' was written without encoding metadata.\n",
      "  return read_elem(dataset)\n",
      "/Users/miaoxinran/anaconda3/envs/scvi-env2/lib/python3.9/site-packages/anndata/_io/specs/methods.py:590: OldFormatWarning: Element '/obs/_index' was written without encoding metadata.\n",
      "  return read_elem(dataset)\n",
      "/Users/miaoxinran/anaconda3/envs/scvi-env2/lib/python3.9/site-packages/anndata/_io/specs/methods.py:590: OldFormatWarning: Element '/var/_index' was written without encoding metadata.\n",
      "  return read_elem(dataset)\n",
      "/Users/miaoxinran/anaconda3/envs/scvi-env2/lib/python3.9/site-packages/torch/distributed/_sharded_tensor/__init__.py:8: DeprecationWarning: torch.distributed._sharded_tensor will be deprecated, use torch.distributed._shard.sharded_tensor instead\n",
      "  warnings.warn(\n",
      "GPU available: False, used: False\n",
      "TPU available: False, using: 0 TPU cores\n",
      "IPU available: False, using: 0 IPUs\n",
      "/Users/miaoxinran/anaconda3/envs/scvi-env2/lib/python3.9/site-packages/pytorch_lightning/trainer/data_loading.py:428: UserWarning: The number of training samples (7) is smaller than the logging interval Trainer(log_every_n_steps=10). Set a lower value for log_every_n_steps if you want to see logs for the training epoch.\n",
      "  rank_zero_warn(\n"
     ]
    },
    {
     "name": "stdout",
     "output_type": "stream",
     "text": [
      "Epoch 28/100:  28%|██▊       | 28/100 [00:32<01:24,  1.17s/it, loss=54, v_num=1]\n",
      "Monitored metric elbo_validation did not improve in the last 25 records. Best score: 36.386. Signaling Trainer to stop.\n",
      "\u001b[34mINFO    \u001b[0m Input AnnData not setup with scvi-tools. attempting to transfer AnnData setup       \n",
      "     ad                           dataset              c_type n_cell  \\\n",
      "0  path  human_pancreas_norm_complexBatch  activated_stellate      0   \n",
      "1  path  human_pancreas_norm_complexBatch  activated_stellate      0   \n",
      "2  path  human_pancreas_norm_complexBatch  activated_stellate      0   \n",
      "\n",
      "  cell_times seq_depth method metric  evaluation  \n",
      "0          0      5000  scgen    pcr    0.898385  \n",
      "1          0      5000  scgen    nmi    0.000000  \n",
      "2          0      5000  scgen    ari    0.000000  \n"
     ]
    },
    {
     "name": "stderr",
     "output_type": "stream",
     "text": [
      "/Users/miaoxinran/anaconda3/envs/scvi-env2/lib/python3.9/site-packages/anndata/_io/h5ad.py:238: OldFormatWarning: Element '/X' was written without encoding metadata.\n",
      "  d[k] = read_elem(f[k])\n",
      "/Users/miaoxinran/anaconda3/envs/scvi-env2/lib/python3.9/site-packages/anndata/_io/specs/methods.py:584: OldFormatWarning: Element '/obs/__categories/tech' was written without encoding metadata.\n",
      "  categories = read_elem(categories_dset)\n",
      "/Users/miaoxinran/anaconda3/envs/scvi-env2/lib/python3.9/site-packages/anndata/_io/specs/methods.py:587: OldFormatWarning: Element '/obs/tech' was written without encoding metadata.\n",
      "  read_elem(dataset), categories, ordered=ordered\n",
      "/Users/miaoxinran/anaconda3/envs/scvi-env2/lib/python3.9/site-packages/anndata/_io/specs/methods.py:584: OldFormatWarning: Element '/obs/__categories/celltype' was written without encoding metadata.\n",
      "  categories = read_elem(categories_dset)\n",
      "/Users/miaoxinran/anaconda3/envs/scvi-env2/lib/python3.9/site-packages/anndata/_io/specs/methods.py:587: OldFormatWarning: Element '/obs/celltype' was written without encoding metadata.\n",
      "  read_elem(dataset), categories, ordered=ordered\n",
      "/Users/miaoxinran/anaconda3/envs/scvi-env2/lib/python3.9/site-packages/anndata/_io/specs/methods.py:590: OldFormatWarning: Element '/obs/size_factors' was written without encoding metadata.\n",
      "  return read_elem(dataset)\n",
      "/Users/miaoxinran/anaconda3/envs/scvi-env2/lib/python3.9/site-packages/anndata/_io/specs/methods.py:590: OldFormatWarning: Element '/obs/_index' was written without encoding metadata.\n",
      "  return read_elem(dataset)\n",
      "/Users/miaoxinran/anaconda3/envs/scvi-env2/lib/python3.9/site-packages/anndata/_io/specs/methods.py:590: OldFormatWarning: Element '/var/_index' was written without encoding metadata.\n",
      "  return read_elem(dataset)\n",
      "GPU available: False, used: False\n",
      "TPU available: False, using: 0 TPU cores\n",
      "IPU available: False, using: 0 IPUs\n"
     ]
    },
    {
     "name": "stdout",
     "output_type": "stream",
     "text": [
      "Epoch 26/100:  26%|█▊     | 26/100 [04:12<11:59,  9.72s/it, loss=0.687, v_num=1]\n",
      "Monitored metric elbo_validation did not improve in the last 25 records. Best score: 13.174. Signaling Trainer to stop.\n",
      "\u001b[34mINFO    \u001b[0m Input AnnData not setup with scvi-tools. attempting to transfer AnnData setup       \n",
      "     ad                           dataset              c_type n_cell  \\\n",
      "0  path  human_pancreas_norm_complexBatch  activated_stellate      0   \n",
      "1  path  human_pancreas_norm_complexBatch  activated_stellate      0   \n",
      "2  path  human_pancreas_norm_complexBatch  activated_stellate      0   \n",
      "3  path  human_pancreas_norm_complexBatch                beta      0   \n",
      "4  path  human_pancreas_norm_complexBatch                beta      0   \n",
      "5  path  human_pancreas_norm_complexBatch                beta      0   \n",
      "\n",
      "  cell_times seq_depth method metric  evaluation  \n",
      "0          0      5000  scgen    pcr    0.898385  \n",
      "1          0      5000  scgen    nmi    0.000000  \n",
      "2          0      5000  scgen    ari    0.000000  \n",
      "3          0      1000  scgen    pcr    0.806535  \n",
      "4          0      1000  scgen    nmi    0.000000  \n",
      "5          0      1000  scgen    ari    0.000000  \n"
     ]
    },
    {
     "name": "stderr",
     "output_type": "stream",
     "text": [
      "/Users/miaoxinran/anaconda3/envs/scvi-env2/lib/python3.9/site-packages/anndata/_io/h5ad.py:238: OldFormatWarning: Element '/X' was written without encoding metadata.\n",
      "  d[k] = read_elem(f[k])\n",
      "/Users/miaoxinran/anaconda3/envs/scvi-env2/lib/python3.9/site-packages/anndata/_io/specs/methods.py:584: OldFormatWarning: Element '/obs/__categories/tech' was written without encoding metadata.\n",
      "  categories = read_elem(categories_dset)\n",
      "/Users/miaoxinran/anaconda3/envs/scvi-env2/lib/python3.9/site-packages/anndata/_io/specs/methods.py:587: OldFormatWarning: Element '/obs/tech' was written without encoding metadata.\n",
      "  read_elem(dataset), categories, ordered=ordered\n",
      "/Users/miaoxinran/anaconda3/envs/scvi-env2/lib/python3.9/site-packages/anndata/_io/specs/methods.py:584: OldFormatWarning: Element '/obs/__categories/celltype' was written without encoding metadata.\n",
      "  categories = read_elem(categories_dset)\n",
      "/Users/miaoxinran/anaconda3/envs/scvi-env2/lib/python3.9/site-packages/anndata/_io/specs/methods.py:587: OldFormatWarning: Element '/obs/celltype' was written without encoding metadata.\n",
      "  read_elem(dataset), categories, ordered=ordered\n",
      "/Users/miaoxinran/anaconda3/envs/scvi-env2/lib/python3.9/site-packages/anndata/_io/specs/methods.py:590: OldFormatWarning: Element '/obs/size_factors' was written without encoding metadata.\n",
      "  return read_elem(dataset)\n",
      "/Users/miaoxinran/anaconda3/envs/scvi-env2/lib/python3.9/site-packages/anndata/_io/specs/methods.py:590: OldFormatWarning: Element '/obs/_index' was written without encoding metadata.\n",
      "  return read_elem(dataset)\n",
      "/Users/miaoxinran/anaconda3/envs/scvi-env2/lib/python3.9/site-packages/anndata/_io/specs/methods.py:590: OldFormatWarning: Element '/var/_index' was written without encoding metadata.\n",
      "  return read_elem(dataset)\n",
      "GPU available: False, used: False\n",
      "TPU available: False, using: 0 TPU cores\n",
      "IPU available: False, using: 0 IPUs\n"
     ]
    },
    {
     "name": "stdout",
     "output_type": "stream",
     "text": [
      "Epoch 28/100:  28%|██▏     | 28/100 [01:42<04:24,  3.68s/it, loss=4.06, v_num=1]\n",
      "Monitored metric elbo_validation did not improve in the last 25 records. Best score: 11.130. Signaling Trainer to stop.\n",
      "\u001b[34mINFO    \u001b[0m Input AnnData not setup with scvi-tools. attempting to transfer AnnData setup       \n",
      "     ad                           dataset              c_type n_cell  \\\n",
      "0  path  human_pancreas_norm_complexBatch  activated_stellate      0   \n",
      "1  path  human_pancreas_norm_complexBatch  activated_stellate      0   \n",
      "2  path  human_pancreas_norm_complexBatch  activated_stellate      0   \n",
      "3  path  human_pancreas_norm_complexBatch                beta      0   \n",
      "4  path  human_pancreas_norm_complexBatch                beta      0   \n",
      "5  path  human_pancreas_norm_complexBatch                beta      0   \n",
      "6  path  human_pancreas_norm_complexBatch              acinar      0   \n",
      "7  path  human_pancreas_norm_complexBatch              acinar      0   \n",
      "8  path  human_pancreas_norm_complexBatch              acinar      0   \n",
      "\n",
      "  cell_times seq_depth method metric  evaluation  \n",
      "0          0      5000  scgen    pcr    0.898385  \n",
      "1          0      5000  scgen    nmi    0.000000  \n",
      "2          0      5000  scgen    ari    0.000000  \n",
      "3          0      1000  scgen    pcr    0.806535  \n",
      "4          0      1000  scgen    nmi    0.000000  \n",
      "5          0      1000  scgen    ari    0.000000  \n",
      "6          0      1000  scgen    pcr    0.561103  \n",
      "7          0      1000  scgen    nmi    0.000000  \n",
      "8          0      1000  scgen    ari    0.000000  \n"
     ]
    },
    {
     "name": "stderr",
     "output_type": "stream",
     "text": [
      "/Users/miaoxinran/anaconda3/envs/scvi-env2/lib/python3.9/site-packages/anndata/_io/h5ad.py:238: OldFormatWarning: Element '/X' was written without encoding metadata.\n",
      "  d[k] = read_elem(f[k])\n",
      "/Users/miaoxinran/anaconda3/envs/scvi-env2/lib/python3.9/site-packages/anndata/_io/specs/methods.py:584: OldFormatWarning: Element '/obs/__categories/tech' was written without encoding metadata.\n",
      "  categories = read_elem(categories_dset)\n",
      "/Users/miaoxinran/anaconda3/envs/scvi-env2/lib/python3.9/site-packages/anndata/_io/specs/methods.py:587: OldFormatWarning: Element '/obs/tech' was written without encoding metadata.\n",
      "  read_elem(dataset), categories, ordered=ordered\n",
      "/Users/miaoxinran/anaconda3/envs/scvi-env2/lib/python3.9/site-packages/anndata/_io/specs/methods.py:584: OldFormatWarning: Element '/obs/__categories/celltype' was written without encoding metadata.\n",
      "  categories = read_elem(categories_dset)\n",
      "/Users/miaoxinran/anaconda3/envs/scvi-env2/lib/python3.9/site-packages/anndata/_io/specs/methods.py:587: OldFormatWarning: Element '/obs/celltype' was written without encoding metadata.\n",
      "  read_elem(dataset), categories, ordered=ordered\n",
      "/Users/miaoxinran/anaconda3/envs/scvi-env2/lib/python3.9/site-packages/anndata/_io/specs/methods.py:590: OldFormatWarning: Element '/obs/size_factors' was written without encoding metadata.\n",
      "  return read_elem(dataset)\n",
      "/Users/miaoxinran/anaconda3/envs/scvi-env2/lib/python3.9/site-packages/anndata/_io/specs/methods.py:590: OldFormatWarning: Element '/obs/_index' was written without encoding metadata.\n",
      "  return read_elem(dataset)\n",
      "/Users/miaoxinran/anaconda3/envs/scvi-env2/lib/python3.9/site-packages/anndata/_io/specs/methods.py:590: OldFormatWarning: Element '/var/_index' was written without encoding metadata.\n",
      "  return read_elem(dataset)\n",
      "GPU available: False, used: False\n",
      "TPU available: False, using: 0 TPU cores\n",
      "IPU available: False, using: 0 IPUs\n"
     ]
    },
    {
     "name": "stdout",
     "output_type": "stream",
     "text": [
      "Epoch 26/100:  26%|██      | 26/100 [06:30<18:31, 15.01s/it, loss=2.21, v_num=1]\n",
      "Monitored metric elbo_validation did not improve in the last 25 records. Best score: 15.522. Signaling Trainer to stop.\n",
      "\u001b[34mINFO    \u001b[0m Input AnnData not setup with scvi-tools. attempting to transfer AnnData setup       \n",
      "      ad                           dataset              c_type n_cell  \\\n",
      "0   path  human_pancreas_norm_complexBatch  activated_stellate      0   \n",
      "1   path  human_pancreas_norm_complexBatch  activated_stellate      0   \n",
      "2   path  human_pancreas_norm_complexBatch  activated_stellate      0   \n",
      "3   path  human_pancreas_norm_complexBatch                beta      0   \n",
      "4   path  human_pancreas_norm_complexBatch                beta      0   \n",
      "5   path  human_pancreas_norm_complexBatch                beta      0   \n",
      "6   path  human_pancreas_norm_complexBatch              acinar      0   \n",
      "7   path  human_pancreas_norm_complexBatch              acinar      0   \n",
      "8   path  human_pancreas_norm_complexBatch              acinar      0   \n",
      "9   path  human_pancreas_norm_complexBatch               alpha      0   \n",
      "10  path  human_pancreas_norm_complexBatch               alpha      0   \n",
      "11  path  human_pancreas_norm_complexBatch               alpha      0   \n",
      "\n",
      "   cell_times seq_depth method metric  evaluation  \n",
      "0           0      5000  scgen    pcr    0.898385  \n",
      "1           0      5000  scgen    nmi    0.000000  \n",
      "2           0      5000  scgen    ari    0.000000  \n",
      "3           0      1000  scgen    pcr    0.806535  \n",
      "4           0      1000  scgen    nmi    0.000000  \n",
      "5           0      1000  scgen    ari    0.000000  \n",
      "6           0      1000  scgen    pcr    0.561103  \n",
      "7           0      1000  scgen    nmi    0.000000  \n",
      "8           0      1000  scgen    ari    0.000000  \n",
      "9           0     10000  scgen    pcr    1.000000  \n",
      "10          0     10000  scgen    nmi    0.000000  \n",
      "11          0     10000  scgen    ari    0.000000  \n"
     ]
    },
    {
     "name": "stderr",
     "output_type": "stream",
     "text": [
      "/Users/miaoxinran/anaconda3/envs/scvi-env2/lib/python3.9/site-packages/anndata/_io/h5ad.py:238: OldFormatWarning: Element '/X' was written without encoding metadata.\n",
      "  d[k] = read_elem(f[k])\n",
      "/Users/miaoxinran/anaconda3/envs/scvi-env2/lib/python3.9/site-packages/anndata/_io/specs/methods.py:584: OldFormatWarning: Element '/obs/__categories/tech' was written without encoding metadata.\n",
      "  categories = read_elem(categories_dset)\n",
      "/Users/miaoxinran/anaconda3/envs/scvi-env2/lib/python3.9/site-packages/anndata/_io/specs/methods.py:587: OldFormatWarning: Element '/obs/tech' was written without encoding metadata.\n",
      "  read_elem(dataset), categories, ordered=ordered\n",
      "/Users/miaoxinran/anaconda3/envs/scvi-env2/lib/python3.9/site-packages/anndata/_io/specs/methods.py:584: OldFormatWarning: Element '/obs/__categories/celltype' was written without encoding metadata.\n",
      "  categories = read_elem(categories_dset)\n",
      "/Users/miaoxinran/anaconda3/envs/scvi-env2/lib/python3.9/site-packages/anndata/_io/specs/methods.py:587: OldFormatWarning: Element '/obs/celltype' was written without encoding metadata.\n",
      "  read_elem(dataset), categories, ordered=ordered\n",
      "/Users/miaoxinran/anaconda3/envs/scvi-env2/lib/python3.9/site-packages/anndata/_io/specs/methods.py:590: OldFormatWarning: Element '/obs/size_factors' was written without encoding metadata.\n",
      "  return read_elem(dataset)\n",
      "/Users/miaoxinran/anaconda3/envs/scvi-env2/lib/python3.9/site-packages/anndata/_io/specs/methods.py:590: OldFormatWarning: Element '/obs/_index' was written without encoding metadata.\n",
      "  return read_elem(dataset)\n",
      "/Users/miaoxinran/anaconda3/envs/scvi-env2/lib/python3.9/site-packages/anndata/_io/specs/methods.py:590: OldFormatWarning: Element '/var/_index' was written without encoding metadata.\n",
      "  return read_elem(dataset)\n",
      "GPU available: False, used: False\n",
      "TPU available: False, using: 0 TPU cores\n",
      "IPU available: False, using: 0 IPUs\n"
     ]
    },
    {
     "name": "stdout",
     "output_type": "stream",
     "text": [
      "Epoch 27/100:  27%|██▋       | 27/100 [01:24<03:47,  3.11s/it, loss=22, v_num=1]\n",
      "Monitored metric elbo_validation did not improve in the last 25 records. Best score: 28.818. Signaling Trainer to stop.\n",
      "\u001b[34mINFO    \u001b[0m Input AnnData not setup with scvi-tools. attempting to transfer AnnData setup       \n",
      "      ad                           dataset              c_type n_cell  \\\n",
      "0   path  human_pancreas_norm_complexBatch  activated_stellate      0   \n",
      "1   path  human_pancreas_norm_complexBatch  activated_stellate      0   \n",
      "2   path  human_pancreas_norm_complexBatch  activated_stellate      0   \n",
      "3   path  human_pancreas_norm_complexBatch                beta      0   \n",
      "4   path  human_pancreas_norm_complexBatch                beta      0   \n",
      "5   path  human_pancreas_norm_complexBatch                beta      0   \n",
      "6   path  human_pancreas_norm_complexBatch              acinar      0   \n",
      "7   path  human_pancreas_norm_complexBatch              acinar      0   \n",
      "8   path  human_pancreas_norm_complexBatch              acinar      0   \n",
      "9   path  human_pancreas_norm_complexBatch               alpha      0   \n",
      "10  path  human_pancreas_norm_complexBatch               alpha      0   \n",
      "11  path  human_pancreas_norm_complexBatch               alpha      0   \n",
      "12  path  human_pancreas_norm_complexBatch               delta      0   \n",
      "13  path  human_pancreas_norm_complexBatch               delta      0   \n",
      "14  path  human_pancreas_norm_complexBatch               delta      0   \n",
      "\n",
      "   cell_times seq_depth method metric  evaluation  \n",
      "0           0      5000  scgen    pcr    0.898385  \n",
      "1           0      5000  scgen    nmi    0.000000  \n",
      "2           0      5000  scgen    ari    0.000000  \n",
      "3           0      1000  scgen    pcr    0.806535  \n",
      "4           0      1000  scgen    nmi    0.000000  \n",
      "5           0      1000  scgen    ari    0.000000  \n",
      "6           0      1000  scgen    pcr    0.561103  \n",
      "7           0      1000  scgen    nmi    0.000000  \n",
      "8           0      1000  scgen    ari    0.000000  \n",
      "9           0     10000  scgen    pcr    1.000000  \n",
      "10          0     10000  scgen    nmi    0.000000  \n",
      "11          0     10000  scgen    ari    0.000000  \n",
      "12          0     10000  scgen    pcr    0.719844  \n",
      "13          0     10000  scgen    nmi    0.000000  \n",
      "14          0     10000  scgen    ari    0.000000  \n"
     ]
    },
    {
     "name": "stderr",
     "output_type": "stream",
     "text": [
      "/Users/miaoxinran/anaconda3/envs/scvi-env2/lib/python3.9/site-packages/anndata/_io/h5ad.py:238: OldFormatWarning: Element '/X' was written without encoding metadata.\n",
      "  d[k] = read_elem(f[k])\n",
      "/Users/miaoxinran/anaconda3/envs/scvi-env2/lib/python3.9/site-packages/anndata/_io/specs/methods.py:584: OldFormatWarning: Element '/obs/__categories/tech' was written without encoding metadata.\n",
      "  categories = read_elem(categories_dset)\n",
      "/Users/miaoxinran/anaconda3/envs/scvi-env2/lib/python3.9/site-packages/anndata/_io/specs/methods.py:587: OldFormatWarning: Element '/obs/tech' was written without encoding metadata.\n",
      "  read_elem(dataset), categories, ordered=ordered\n",
      "/Users/miaoxinran/anaconda3/envs/scvi-env2/lib/python3.9/site-packages/anndata/_io/specs/methods.py:584: OldFormatWarning: Element '/obs/__categories/celltype' was written without encoding metadata.\n",
      "  categories = read_elem(categories_dset)\n",
      "/Users/miaoxinran/anaconda3/envs/scvi-env2/lib/python3.9/site-packages/anndata/_io/specs/methods.py:587: OldFormatWarning: Element '/obs/celltype' was written without encoding metadata.\n",
      "  read_elem(dataset), categories, ordered=ordered\n",
      "/Users/miaoxinran/anaconda3/envs/scvi-env2/lib/python3.9/site-packages/anndata/_io/specs/methods.py:590: OldFormatWarning: Element '/obs/size_factors' was written without encoding metadata.\n",
      "  return read_elem(dataset)\n",
      "/Users/miaoxinran/anaconda3/envs/scvi-env2/lib/python3.9/site-packages/anndata/_io/specs/methods.py:590: OldFormatWarning: Element '/obs/_index' was written without encoding metadata.\n",
      "  return read_elem(dataset)\n",
      "/Users/miaoxinran/anaconda3/envs/scvi-env2/lib/python3.9/site-packages/anndata/_io/specs/methods.py:590: OldFormatWarning: Element '/var/_index' was written without encoding metadata.\n",
      "  return read_elem(dataset)\n",
      "GPU available: False, used: False\n",
      "TPU available: False, using: 0 TPU cores\n",
      "IPU available: False, using: 0 IPUs\n"
     ]
    },
    {
     "name": "stdout",
     "output_type": "stream",
     "text": [
      "Epoch 28/100:  28%|██▏     | 28/100 [02:46<07:09,  5.96s/it, loss=4.38, v_num=1]\n",
      "Monitored metric elbo_validation did not improve in the last 25 records. Best score: 12.273. Signaling Trainer to stop.\n",
      "\u001b[34mINFO    \u001b[0m Input AnnData not setup with scvi-tools. attempting to transfer AnnData setup       \n",
      "Variance contribution increased after integration!\n",
      "Setting PCR comparison score to 0.\n",
      "      ad                           dataset              c_type n_cell  \\\n",
      "0   path  human_pancreas_norm_complexBatch  activated_stellate      0   \n",
      "1   path  human_pancreas_norm_complexBatch  activated_stellate      0   \n",
      "2   path  human_pancreas_norm_complexBatch  activated_stellate      0   \n",
      "3   path  human_pancreas_norm_complexBatch                beta      0   \n",
      "4   path  human_pancreas_norm_complexBatch                beta      0   \n",
      "5   path  human_pancreas_norm_complexBatch                beta      0   \n",
      "6   path  human_pancreas_norm_complexBatch              acinar      0   \n",
      "7   path  human_pancreas_norm_complexBatch              acinar      0   \n",
      "8   path  human_pancreas_norm_complexBatch              acinar      0   \n",
      "9   path  human_pancreas_norm_complexBatch               alpha      0   \n",
      "10  path  human_pancreas_norm_complexBatch               alpha      0   \n",
      "11  path  human_pancreas_norm_complexBatch               alpha      0   \n",
      "12  path  human_pancreas_norm_complexBatch               delta      0   \n",
      "13  path  human_pancreas_norm_complexBatch               delta      0   \n",
      "14  path  human_pancreas_norm_complexBatch               delta      0   \n",
      "15  path  human_pancreas_norm_complexBatch              ductal      0   \n",
      "16  path  human_pancreas_norm_complexBatch              ductal      0   \n",
      "17  path  human_pancreas_norm_complexBatch              ductal      0   \n",
      "\n",
      "   cell_times seq_depth method metric  evaluation  \n",
      "0           0      5000  scgen    pcr    0.898385  \n",
      "1           0      5000  scgen    nmi    0.000000  \n",
      "2           0      5000  scgen    ari    0.000000  \n",
      "3           0      1000  scgen    pcr    0.806535  \n",
      "4           0      1000  scgen    nmi    0.000000  \n",
      "5           0      1000  scgen    ari    0.000000  \n",
      "6           0      1000  scgen    pcr    0.561103  \n",
      "7           0      1000  scgen    nmi    0.000000  \n",
      "8           0      1000  scgen    ari    0.000000  \n",
      "9           0     10000  scgen    pcr    1.000000  \n",
      "10          0     10000  scgen    nmi    0.000000  \n",
      "11          0     10000  scgen    ari    0.000000  \n",
      "12          0     10000  scgen    pcr    0.719844  \n",
      "13          0     10000  scgen    nmi    0.000000  \n",
      "14          0     10000  scgen    ari    0.000000  \n",
      "15          0      1000  scgen    pcr    0.000000  \n",
      "16          0      1000  scgen    nmi    0.000000  \n",
      "17          0      1000  scgen    ari    0.000000  \n"
     ]
    }
   ],
   "source": [
    "for path in ad_file_paths:\n",
    "    adata = sc.read(path)\n",
    "    # train scgen\n",
    "    scgen.SCGEN.setup_anndata(adata, batch_key=\"tech\", labels_key=\"celltype\")\n",
    "    model = scgen.SCGEN(adata)\n",
    "    model.save(\"../../results/scgen_batch_removal.pt\", overwrite=True, save_anndata = True)\n",
    "    model.train(\n",
    "        max_epochs = 100,\n",
    "        batch_size = 32,\n",
    "        early_stopping = True,\n",
    "        early_stopping_patience = 25,\n",
    "    )\n",
    "    \n",
    "    res = model.batch_removal()\n",
    "    c_type, n_cell, cell_times, seq_depth = path2para(path)\n",
    "    pcr = scib.me.pcr_comparison(adata_pre = adata, adata_post = res, covariate = \"celltype\")\n",
    "    nmi = scib.me.nmi(adata = res, group1 = \"tech\",  group2 = \"celltype\")\n",
    "    ari = scib.me.ari(adata = res, group1 = \"tech\",  group2 = \"celltype\")\n",
    "\n",
    "    int_metrics.loc[len(int_metrics.index)] = [\"path\", \"human_pancreas_norm_complexBatch\", c_type, n_cell, cell_times, seq_depth,\n",
    "                         \"scgen\", \"pcr\", pcr]\n",
    "    int_metrics.loc[len(int_metrics.index)] = [\"path\", \"human_pancreas_norm_complexBatch\", c_type, n_cell, cell_times, seq_depth,\n",
    "                         \"scgen\", \"nmi\", nmi]\n",
    "    int_metrics.loc[len(int_metrics.index)] = [\"path\", \"human_pancreas_norm_complexBatch\", c_type, n_cell, cell_times, seq_depth,\n",
    "                         \"scgen\", \"ari\", ari]\n",
    "    print(int_metrics)\n",
    "    int_metrics.to_csv(\"scgen.csv\")"
   ]
  },
  {
   "cell_type": "code",
   "execution_count": 5,
   "id": "2caf40bd",
   "metadata": {
    "scrolled": true
   },
   "outputs": [
    {
     "data": {
      "text/html": [
       "<div>\n",
       "<style scoped>\n",
       "    .dataframe tbody tr th:only-of-type {\n",
       "        vertical-align: middle;\n",
       "    }\n",
       "\n",
       "    .dataframe tbody tr th {\n",
       "        vertical-align: top;\n",
       "    }\n",
       "\n",
       "    .dataframe thead th {\n",
       "        text-align: right;\n",
       "    }\n",
       "</style>\n",
       "<table border=\"1\" class=\"dataframe\">\n",
       "  <thead>\n",
       "    <tr style=\"text-align: right;\">\n",
       "      <th></th>\n",
       "      <th>ad</th>\n",
       "      <th>dataset</th>\n",
       "      <th>c_type</th>\n",
       "      <th>n_cell</th>\n",
       "      <th>cell_times</th>\n",
       "      <th>seq_depth</th>\n",
       "      <th>method</th>\n",
       "      <th>metric</th>\n",
       "      <th>evaluation</th>\n",
       "    </tr>\n",
       "  </thead>\n",
       "  <tbody>\n",
       "    <tr>\n",
       "      <th>0</th>\n",
       "      <td>path</td>\n",
       "      <td>human_pancreas_norm_complexBatch</td>\n",
       "      <td>activated_stellate</td>\n",
       "      <td>0</td>\n",
       "      <td>0</td>\n",
       "      <td>5000</td>\n",
       "      <td>scgen</td>\n",
       "      <td>pcr</td>\n",
       "      <td>0.898385</td>\n",
       "    </tr>\n",
       "    <tr>\n",
       "      <th>1</th>\n",
       "      <td>path</td>\n",
       "      <td>human_pancreas_norm_complexBatch</td>\n",
       "      <td>activated_stellate</td>\n",
       "      <td>0</td>\n",
       "      <td>0</td>\n",
       "      <td>5000</td>\n",
       "      <td>scgen</td>\n",
       "      <td>nmi</td>\n",
       "      <td>0.000000</td>\n",
       "    </tr>\n",
       "    <tr>\n",
       "      <th>2</th>\n",
       "      <td>path</td>\n",
       "      <td>human_pancreas_norm_complexBatch</td>\n",
       "      <td>activated_stellate</td>\n",
       "      <td>0</td>\n",
       "      <td>0</td>\n",
       "      <td>5000</td>\n",
       "      <td>scgen</td>\n",
       "      <td>ari</td>\n",
       "      <td>0.000000</td>\n",
       "    </tr>\n",
       "    <tr>\n",
       "      <th>3</th>\n",
       "      <td>path</td>\n",
       "      <td>human_pancreas_norm_complexBatch</td>\n",
       "      <td>beta</td>\n",
       "      <td>0</td>\n",
       "      <td>0</td>\n",
       "      <td>1000</td>\n",
       "      <td>scgen</td>\n",
       "      <td>pcr</td>\n",
       "      <td>0.806535</td>\n",
       "    </tr>\n",
       "    <tr>\n",
       "      <th>4</th>\n",
       "      <td>path</td>\n",
       "      <td>human_pancreas_norm_complexBatch</td>\n",
       "      <td>beta</td>\n",
       "      <td>0</td>\n",
       "      <td>0</td>\n",
       "      <td>1000</td>\n",
       "      <td>scgen</td>\n",
       "      <td>nmi</td>\n",
       "      <td>0.000000</td>\n",
       "    </tr>\n",
       "    <tr>\n",
       "      <th>5</th>\n",
       "      <td>path</td>\n",
       "      <td>human_pancreas_norm_complexBatch</td>\n",
       "      <td>beta</td>\n",
       "      <td>0</td>\n",
       "      <td>0</td>\n",
       "      <td>1000</td>\n",
       "      <td>scgen</td>\n",
       "      <td>ari</td>\n",
       "      <td>0.000000</td>\n",
       "    </tr>\n",
       "    <tr>\n",
       "      <th>6</th>\n",
       "      <td>path</td>\n",
       "      <td>human_pancreas_norm_complexBatch</td>\n",
       "      <td>acinar</td>\n",
       "      <td>0</td>\n",
       "      <td>0</td>\n",
       "      <td>1000</td>\n",
       "      <td>scgen</td>\n",
       "      <td>pcr</td>\n",
       "      <td>0.561103</td>\n",
       "    </tr>\n",
       "    <tr>\n",
       "      <th>7</th>\n",
       "      <td>path</td>\n",
       "      <td>human_pancreas_norm_complexBatch</td>\n",
       "      <td>acinar</td>\n",
       "      <td>0</td>\n",
       "      <td>0</td>\n",
       "      <td>1000</td>\n",
       "      <td>scgen</td>\n",
       "      <td>nmi</td>\n",
       "      <td>0.000000</td>\n",
       "    </tr>\n",
       "    <tr>\n",
       "      <th>8</th>\n",
       "      <td>path</td>\n",
       "      <td>human_pancreas_norm_complexBatch</td>\n",
       "      <td>acinar</td>\n",
       "      <td>0</td>\n",
       "      <td>0</td>\n",
       "      <td>1000</td>\n",
       "      <td>scgen</td>\n",
       "      <td>ari</td>\n",
       "      <td>0.000000</td>\n",
       "    </tr>\n",
       "    <tr>\n",
       "      <th>9</th>\n",
       "      <td>path</td>\n",
       "      <td>human_pancreas_norm_complexBatch</td>\n",
       "      <td>alpha</td>\n",
       "      <td>0</td>\n",
       "      <td>0</td>\n",
       "      <td>10000</td>\n",
       "      <td>scgen</td>\n",
       "      <td>pcr</td>\n",
       "      <td>1.000000</td>\n",
       "    </tr>\n",
       "    <tr>\n",
       "      <th>10</th>\n",
       "      <td>path</td>\n",
       "      <td>human_pancreas_norm_complexBatch</td>\n",
       "      <td>alpha</td>\n",
       "      <td>0</td>\n",
       "      <td>0</td>\n",
       "      <td>10000</td>\n",
       "      <td>scgen</td>\n",
       "      <td>nmi</td>\n",
       "      <td>0.000000</td>\n",
       "    </tr>\n",
       "    <tr>\n",
       "      <th>11</th>\n",
       "      <td>path</td>\n",
       "      <td>human_pancreas_norm_complexBatch</td>\n",
       "      <td>alpha</td>\n",
       "      <td>0</td>\n",
       "      <td>0</td>\n",
       "      <td>10000</td>\n",
       "      <td>scgen</td>\n",
       "      <td>ari</td>\n",
       "      <td>0.000000</td>\n",
       "    </tr>\n",
       "    <tr>\n",
       "      <th>12</th>\n",
       "      <td>path</td>\n",
       "      <td>human_pancreas_norm_complexBatch</td>\n",
       "      <td>delta</td>\n",
       "      <td>0</td>\n",
       "      <td>0</td>\n",
       "      <td>10000</td>\n",
       "      <td>scgen</td>\n",
       "      <td>pcr</td>\n",
       "      <td>0.719844</td>\n",
       "    </tr>\n",
       "    <tr>\n",
       "      <th>13</th>\n",
       "      <td>path</td>\n",
       "      <td>human_pancreas_norm_complexBatch</td>\n",
       "      <td>delta</td>\n",
       "      <td>0</td>\n",
       "      <td>0</td>\n",
       "      <td>10000</td>\n",
       "      <td>scgen</td>\n",
       "      <td>nmi</td>\n",
       "      <td>0.000000</td>\n",
       "    </tr>\n",
       "    <tr>\n",
       "      <th>14</th>\n",
       "      <td>path</td>\n",
       "      <td>human_pancreas_norm_complexBatch</td>\n",
       "      <td>delta</td>\n",
       "      <td>0</td>\n",
       "      <td>0</td>\n",
       "      <td>10000</td>\n",
       "      <td>scgen</td>\n",
       "      <td>ari</td>\n",
       "      <td>0.000000</td>\n",
       "    </tr>\n",
       "    <tr>\n",
       "      <th>15</th>\n",
       "      <td>path</td>\n",
       "      <td>human_pancreas_norm_complexBatch</td>\n",
       "      <td>ductal</td>\n",
       "      <td>0</td>\n",
       "      <td>0</td>\n",
       "      <td>1000</td>\n",
       "      <td>scgen</td>\n",
       "      <td>pcr</td>\n",
       "      <td>0.000000</td>\n",
       "    </tr>\n",
       "    <tr>\n",
       "      <th>16</th>\n",
       "      <td>path</td>\n",
       "      <td>human_pancreas_norm_complexBatch</td>\n",
       "      <td>ductal</td>\n",
       "      <td>0</td>\n",
       "      <td>0</td>\n",
       "      <td>1000</td>\n",
       "      <td>scgen</td>\n",
       "      <td>nmi</td>\n",
       "      <td>0.000000</td>\n",
       "    </tr>\n",
       "    <tr>\n",
       "      <th>17</th>\n",
       "      <td>path</td>\n",
       "      <td>human_pancreas_norm_complexBatch</td>\n",
       "      <td>ductal</td>\n",
       "      <td>0</td>\n",
       "      <td>0</td>\n",
       "      <td>1000</td>\n",
       "      <td>scgen</td>\n",
       "      <td>ari</td>\n",
       "      <td>0.000000</td>\n",
       "    </tr>\n",
       "  </tbody>\n",
       "</table>\n",
       "</div>"
      ],
      "text/plain": [
       "      ad                           dataset              c_type n_cell  \\\n",
       "0   path  human_pancreas_norm_complexBatch  activated_stellate      0   \n",
       "1   path  human_pancreas_norm_complexBatch  activated_stellate      0   \n",
       "2   path  human_pancreas_norm_complexBatch  activated_stellate      0   \n",
       "3   path  human_pancreas_norm_complexBatch                beta      0   \n",
       "4   path  human_pancreas_norm_complexBatch                beta      0   \n",
       "5   path  human_pancreas_norm_complexBatch                beta      0   \n",
       "6   path  human_pancreas_norm_complexBatch              acinar      0   \n",
       "7   path  human_pancreas_norm_complexBatch              acinar      0   \n",
       "8   path  human_pancreas_norm_complexBatch              acinar      0   \n",
       "9   path  human_pancreas_norm_complexBatch               alpha      0   \n",
       "10  path  human_pancreas_norm_complexBatch               alpha      0   \n",
       "11  path  human_pancreas_norm_complexBatch               alpha      0   \n",
       "12  path  human_pancreas_norm_complexBatch               delta      0   \n",
       "13  path  human_pancreas_norm_complexBatch               delta      0   \n",
       "14  path  human_pancreas_norm_complexBatch               delta      0   \n",
       "15  path  human_pancreas_norm_complexBatch              ductal      0   \n",
       "16  path  human_pancreas_norm_complexBatch              ductal      0   \n",
       "17  path  human_pancreas_norm_complexBatch              ductal      0   \n",
       "\n",
       "   cell_times seq_depth method metric  evaluation  \n",
       "0           0      5000  scgen    pcr    0.898385  \n",
       "1           0      5000  scgen    nmi    0.000000  \n",
       "2           0      5000  scgen    ari    0.000000  \n",
       "3           0      1000  scgen    pcr    0.806535  \n",
       "4           0      1000  scgen    nmi    0.000000  \n",
       "5           0      1000  scgen    ari    0.000000  \n",
       "6           0      1000  scgen    pcr    0.561103  \n",
       "7           0      1000  scgen    nmi    0.000000  \n",
       "8           0      1000  scgen    ari    0.000000  \n",
       "9           0     10000  scgen    pcr    1.000000  \n",
       "10          0     10000  scgen    nmi    0.000000  \n",
       "11          0     10000  scgen    ari    0.000000  \n",
       "12          0     10000  scgen    pcr    0.719844  \n",
       "13          0     10000  scgen    nmi    0.000000  \n",
       "14          0     10000  scgen    ari    0.000000  \n",
       "15          0      1000  scgen    pcr    0.000000  \n",
       "16          0      1000  scgen    nmi    0.000000  \n",
       "17          0      1000  scgen    ari    0.000000  "
      ]
     },
     "execution_count": 5,
     "metadata": {},
     "output_type": "execute_result"
    }
   ],
   "source": [
    "int_metrics"
   ]
  },
  {
   "cell_type": "code",
   "execution_count": 6,
   "id": "669d4c48",
   "metadata": {},
   "outputs": [],
   "source": [
    "raw_ad_file_paths = glob.glob(\"../../data/raw_data/*h5ad\")"
   ]
  },
  {
   "cell_type": "code",
   "execution_count": 8,
   "id": "63a16d99",
   "metadata": {},
   "outputs": [
    {
     "name": "stderr",
     "output_type": "stream",
     "text": [
      "/Users/miaoxinran/anaconda3/envs/scvi-env2/lib/python3.9/site-packages/anndata/_io/h5ad.py:238: OldFormatWarning: Element '/X' was written without encoding metadata.\n",
      "  d[k] = read_elem(f[k])\n",
      "/Users/miaoxinran/anaconda3/envs/scvi-env2/lib/python3.9/site-packages/anndata/_io/h5ad.py:238: OldFormatWarning: Element '/layers' was written without encoding metadata.\n",
      "  d[k] = read_elem(f[k])\n",
      "/Users/miaoxinran/anaconda3/envs/scvi-env2/lib/python3.9/site-packages/anndata/_io/specs/methods.py:92: OldFormatWarning: Element '/layers/counts' was written without encoding metadata.\n",
      "  return {k: read_elem(v) for k, v in elem.items()}\n",
      "/Users/miaoxinran/anaconda3/envs/scvi-env2/lib/python3.9/site-packages/anndata/_io/specs/methods.py:584: OldFormatWarning: Element '/obs/__categories/tech' was written without encoding metadata.\n",
      "  categories = read_elem(categories_dset)\n",
      "/Users/miaoxinran/anaconda3/envs/scvi-env2/lib/python3.9/site-packages/anndata/_io/specs/methods.py:587: OldFormatWarning: Element '/obs/tech' was written without encoding metadata.\n",
      "  read_elem(dataset), categories, ordered=ordered\n",
      "/Users/miaoxinran/anaconda3/envs/scvi-env2/lib/python3.9/site-packages/anndata/_io/specs/methods.py:584: OldFormatWarning: Element '/obs/__categories/celltype' was written without encoding metadata.\n",
      "  categories = read_elem(categories_dset)\n",
      "/Users/miaoxinran/anaconda3/envs/scvi-env2/lib/python3.9/site-packages/anndata/_io/specs/methods.py:587: OldFormatWarning: Element '/obs/celltype' was written without encoding metadata.\n",
      "  read_elem(dataset), categories, ordered=ordered\n",
      "/Users/miaoxinran/anaconda3/envs/scvi-env2/lib/python3.9/site-packages/anndata/_io/specs/methods.py:590: OldFormatWarning: Element '/obs/size_factors' was written without encoding metadata.\n",
      "  return read_elem(dataset)\n",
      "/Users/miaoxinran/anaconda3/envs/scvi-env2/lib/python3.9/site-packages/anndata/_io/specs/methods.py:590: OldFormatWarning: Element '/obs/_index' was written without encoding metadata.\n",
      "  return read_elem(dataset)\n",
      "/Users/miaoxinran/anaconda3/envs/scvi-env2/lib/python3.9/site-packages/anndata/_io/specs/methods.py:590: OldFormatWarning: Element '/var/_index' was written without encoding metadata.\n",
      "  return read_elem(dataset)\n",
      "GPU available: False, used: False\n",
      "TPU available: False, using: 0 TPU cores\n",
      "IPU available: False, using: 0 IPUs\n"
     ]
    },
    {
     "name": "stdout",
     "output_type": "stream",
     "text": [
      "Epoch 5/100:   4%|▏    | 4/100 [05:22<2:08:02, 80.02s/it, loss=7.7e+03, v_num=1]"
     ]
    },
    {
     "name": "stderr",
     "output_type": "stream",
     "text": [
      "/Users/miaoxinran/anaconda3/envs/scvi-env2/lib/python3.9/site-packages/pytorch_lightning/trainer/trainer.py:688: UserWarning: Detected KeyboardInterrupt, attempting graceful shutdown...\n",
      "  rank_zero_warn(\"Detected KeyboardInterrupt, attempting graceful shutdown...\")\n",
      "/Users/miaoxinran/anaconda3/envs/scvi-env2/lib/python3.9/site-packages/anndata/_core/anndata.py:1785: FutureWarning: X.dtype being converted to np.float32 from float64. In the next version of anndata (0.9) conversion will not be automatic. Pass dtype explicitly to avoid this warning. Pass `AnnData(X, dtype=X.dtype, ...)` to get the future behavour.\n",
      "  [AnnData(sparse.csr_matrix(a.shape), obs=a.obs) for a in all_adatas],\n"
     ]
    },
    {
     "name": "stdout",
     "output_type": "stream",
     "text": [
      "\u001b[34mINFO    \u001b[0m Input AnnData not setup with scvi-tools. attempting to transfer AnnData setup       \n",
      "Variance contribution increased after integration!\n",
      "Setting PCR comparison score to 0.\n",
      "      ad                           dataset              c_type n_cell  \\\n",
      "0   path  human_pancreas_norm_complexBatch  activated_stellate      0   \n",
      "1   path  human_pancreas_norm_complexBatch  activated_stellate      0   \n",
      "2   path  human_pancreas_norm_complexBatch  activated_stellate      0   \n",
      "3   path  human_pancreas_norm_complexBatch                beta      0   \n",
      "4   path  human_pancreas_norm_complexBatch                beta      0   \n",
      "5   path  human_pancreas_norm_complexBatch                beta      0   \n",
      "6   path  human_pancreas_norm_complexBatch              acinar      0   \n",
      "7   path  human_pancreas_norm_complexBatch              acinar      0   \n",
      "8   path  human_pancreas_norm_complexBatch              acinar      0   \n",
      "9   path  human_pancreas_norm_complexBatch               alpha      0   \n",
      "10  path  human_pancreas_norm_complexBatch               alpha      0   \n",
      "11  path  human_pancreas_norm_complexBatch               alpha      0   \n",
      "12  path  human_pancreas_norm_complexBatch               delta      0   \n",
      "13  path  human_pancreas_norm_complexBatch               delta      0   \n",
      "14  path  human_pancreas_norm_complexBatch               delta      0   \n",
      "15  path  human_pancreas_norm_complexBatch              ductal      0   \n",
      "16  path  human_pancreas_norm_complexBatch              ductal      0   \n",
      "17  path  human_pancreas_norm_complexBatch              ductal      0   \n",
      "18  path  human_pancreas_norm_complexBatch                 raw      0   \n",
      "19  path  human_pancreas_norm_complexBatch                 raw      0   \n",
      "20  path  human_pancreas_norm_complexBatch                 raw      0   \n",
      "\n",
      "   cell_times seq_depth method metric  evaluation  \n",
      "0           0      5000  scgen    pcr    0.898385  \n",
      "1           0      5000  scgen    nmi    0.000000  \n",
      "2           0      5000  scgen    ari    0.000000  \n",
      "3           0      1000  scgen    pcr    0.806535  \n",
      "4           0      1000  scgen    nmi    0.000000  \n",
      "5           0      1000  scgen    ari    0.000000  \n",
      "6           0      1000  scgen    pcr    0.561103  \n",
      "7           0      1000  scgen    nmi    0.000000  \n",
      "8           0      1000  scgen    ari    0.000000  \n",
      "9           0     10000  scgen    pcr    1.000000  \n",
      "10          0     10000  scgen    nmi    0.000000  \n",
      "11          0     10000  scgen    ari    0.000000  \n",
      "12          0     10000  scgen    pcr    0.719844  \n",
      "13          0     10000  scgen    nmi    0.000000  \n",
      "14          0     10000  scgen    ari    0.000000  \n",
      "15          0      1000  scgen    pcr    0.000000  \n",
      "16          0      1000  scgen    nmi    0.000000  \n",
      "17          0      1000  scgen    ari    0.000000  \n",
      "18          0         0  scgen    pcr    0.000000  \n",
      "19          0         0  scgen    nmi    0.078374  \n",
      "20          0         0  scgen    pcr    0.028379  \n"
     ]
    },
    {
     "name": "stderr",
     "output_type": "stream",
     "text": [
      "/Users/miaoxinran/anaconda3/envs/scvi-env2/lib/python3.9/site-packages/anndata/_io/h5ad.py:238: OldFormatWarning: Element '/layers' was written without encoding metadata.\n",
      "  d[k] = read_elem(f[k])\n",
      "/Users/miaoxinran/anaconda3/envs/scvi-env2/lib/python3.9/site-packages/anndata/_io/specs/methods.py:584: OldFormatWarning: Element '/obs/__categories/batchname' was written without encoding metadata.\n",
      "  categories = read_elem(categories_dset)\n",
      "/Users/miaoxinran/anaconda3/envs/scvi-env2/lib/python3.9/site-packages/anndata/_io/specs/methods.py:587: OldFormatWarning: Element '/obs/batchname' was written without encoding metadata.\n",
      "  read_elem(dataset), categories, ordered=ordered\n",
      "/Users/miaoxinran/anaconda3/envs/scvi-env2/lib/python3.9/site-packages/anndata/_io/specs/methods.py:584: OldFormatWarning: Element '/obs/__categories/batchname_all' was written without encoding metadata.\n",
      "  categories = read_elem(categories_dset)\n",
      "/Users/miaoxinran/anaconda3/envs/scvi-env2/lib/python3.9/site-packages/anndata/_io/specs/methods.py:587: OldFormatWarning: Element '/obs/batchname_all' was written without encoding metadata.\n",
      "  read_elem(dataset), categories, ordered=ordered\n",
      "/Users/miaoxinran/anaconda3/envs/scvi-env2/lib/python3.9/site-packages/anndata/_io/specs/methods.py:584: OldFormatWarning: Element '/obs/__categories/final_cell_label' was written without encoding metadata.\n",
      "  categories = read_elem(categories_dset)\n",
      "/Users/miaoxinran/anaconda3/envs/scvi-env2/lib/python3.9/site-packages/anndata/_io/specs/methods.py:587: OldFormatWarning: Element '/obs/final_cell_label' was written without encoding metadata.\n",
      "  read_elem(dataset), categories, ordered=ordered\n",
      "/Users/miaoxinran/anaconda3/envs/scvi-env2/lib/python3.9/site-packages/anndata/_io/specs/methods.py:590: OldFormatWarning: Element '/obs/_index' was written without encoding metadata.\n",
      "  return read_elem(dataset)\n",
      "/Users/miaoxinran/anaconda3/envs/scvi-env2/lib/python3.9/site-packages/anndata/_io/specs/methods.py:590: OldFormatWarning: Element '/var/_index' was written without encoding metadata.\n",
      "  return read_elem(dataset)\n",
      "/Users/miaoxinran/anaconda3/envs/scvi-env2/lib/python3.9/site-packages/anndata/_io/specs/methods.py:590: OldFormatWarning: Element '/raw/var/n_cells-0-0' was written without encoding metadata.\n",
      "  return read_elem(dataset)\n",
      "/Users/miaoxinran/anaconda3/envs/scvi-env2/lib/python3.9/site-packages/anndata/_io/specs/methods.py:590: OldFormatWarning: Element '/raw/var/commonness-0-0' was written without encoding metadata.\n",
      "  return read_elem(dataset)\n",
      "/Users/miaoxinran/anaconda3/envs/scvi-env2/lib/python3.9/site-packages/anndata/_io/specs/methods.py:590: OldFormatWarning: Element '/raw/var/prop_shared_cells-0-0' was written without encoding metadata.\n",
      "  return read_elem(dataset)\n",
      "/Users/miaoxinran/anaconda3/envs/scvi-env2/lib/python3.9/site-packages/anndata/_io/specs/methods.py:590: OldFormatWarning: Element '/raw/var/variability_score-0-0' was written without encoding metadata.\n",
      "  return read_elem(dataset)\n",
      "/Users/miaoxinran/anaconda3/envs/scvi-env2/lib/python3.9/site-packages/anndata/_io/specs/methods.py:590: OldFormatWarning: Element '/raw/var/n_cells-1-0' was written without encoding metadata.\n",
      "  return read_elem(dataset)\n",
      "/Users/miaoxinran/anaconda3/envs/scvi-env2/lib/python3.9/site-packages/anndata/_io/specs/methods.py:590: OldFormatWarning: Element '/raw/var/commonness-1-0' was written without encoding metadata.\n",
      "  return read_elem(dataset)\n",
      "/Users/miaoxinran/anaconda3/envs/scvi-env2/lib/python3.9/site-packages/anndata/_io/specs/methods.py:590: OldFormatWarning: Element '/raw/var/prop_shared_cells-1-0' was written without encoding metadata.\n",
      "  return read_elem(dataset)\n",
      "/Users/miaoxinran/anaconda3/envs/scvi-env2/lib/python3.9/site-packages/anndata/_io/specs/methods.py:590: OldFormatWarning: Element '/raw/var/variability_score-1-0' was written without encoding metadata.\n",
      "  return read_elem(dataset)\n",
      "/Users/miaoxinran/anaconda3/envs/scvi-env2/lib/python3.9/site-packages/anndata/_io/specs/methods.py:590: OldFormatWarning: Element '/raw/var/n_cells-1' was written without encoding metadata.\n",
      "  return read_elem(dataset)\n",
      "/Users/miaoxinran/anaconda3/envs/scvi-env2/lib/python3.9/site-packages/anndata/_io/specs/methods.py:590: OldFormatWarning: Element '/raw/var/commonness-1' was written without encoding metadata.\n",
      "  return read_elem(dataset)\n",
      "/Users/miaoxinran/anaconda3/envs/scvi-env2/lib/python3.9/site-packages/anndata/_io/specs/methods.py:590: OldFormatWarning: Element '/raw/var/prop_shared_cells-1' was written without encoding metadata.\n",
      "  return read_elem(dataset)\n",
      "/Users/miaoxinran/anaconda3/envs/scvi-env2/lib/python3.9/site-packages/anndata/_io/specs/methods.py:590: OldFormatWarning: Element '/raw/var/variability_score-1' was written without encoding metadata.\n",
      "  return read_elem(dataset)\n",
      "/Users/miaoxinran/anaconda3/envs/scvi-env2/lib/python3.9/site-packages/anndata/_io/specs/methods.py:590: OldFormatWarning: Element '/raw/var/_index' was written without encoding metadata.\n",
      "  return read_elem(dataset)\n"
     ]
    },
    {
     "ename": "KeyError",
     "evalue": "'tech not found in adata.obs.'",
     "output_type": "error",
     "traceback": [
      "\u001b[0;31m---------------------------------------------------------------------------\u001b[0m",
      "\u001b[0;31mKeyError\u001b[0m                                  Traceback (most recent call last)",
      "Input \u001b[0;32mIn [8]\u001b[0m, in \u001b[0;36m<cell line: 1>\u001b[0;34m()\u001b[0m\n\u001b[1;32m      2\u001b[0m adata \u001b[38;5;241m=\u001b[39m sc\u001b[38;5;241m.\u001b[39mread(path)\n\u001b[1;32m      3\u001b[0m \u001b[38;5;66;03m# train scgen\u001b[39;00m\n\u001b[0;32m----> 4\u001b[0m \u001b[43mscgen\u001b[49m\u001b[38;5;241;43m.\u001b[39;49m\u001b[43mSCGEN\u001b[49m\u001b[38;5;241;43m.\u001b[39;49m\u001b[43msetup_anndata\u001b[49m\u001b[43m(\u001b[49m\u001b[43madata\u001b[49m\u001b[43m,\u001b[49m\u001b[43m \u001b[49m\u001b[43mbatch_key\u001b[49m\u001b[38;5;241;43m=\u001b[39;49m\u001b[38;5;124;43m\"\u001b[39;49m\u001b[38;5;124;43mtech\u001b[39;49m\u001b[38;5;124;43m\"\u001b[39;49m\u001b[43m,\u001b[49m\u001b[43m \u001b[49m\u001b[43mlabels_key\u001b[49m\u001b[38;5;241;43m=\u001b[39;49m\u001b[38;5;124;43m\"\u001b[39;49m\u001b[38;5;124;43mcelltype\u001b[39;49m\u001b[38;5;124;43m\"\u001b[39;49m\u001b[43m)\u001b[49m\n\u001b[1;32m      5\u001b[0m model \u001b[38;5;241m=\u001b[39m scgen\u001b[38;5;241m.\u001b[39mSCGEN(adata)\n\u001b[1;32m      6\u001b[0m model\u001b[38;5;241m.\u001b[39msave(\u001b[38;5;124m\"\u001b[39m\u001b[38;5;124m../../results/scgen_batch_removal.pt\u001b[39m\u001b[38;5;124m\"\u001b[39m, overwrite\u001b[38;5;241m=\u001b[39m\u001b[38;5;28;01mTrue\u001b[39;00m, save_anndata \u001b[38;5;241m=\u001b[39m \u001b[38;5;28;01mTrue\u001b[39;00m)\n",
      "File \u001b[0;32m~/anaconda3/envs/scvi-env2/lib/python3.9/site-packages/scgen/_scgen.py:777\u001b[0m, in \u001b[0;36mSCGEN.setup_anndata\u001b[0;34m(cls, adata, batch_key, labels_key, **kwargs)\u001b[0m\n\u001b[1;32m    769\u001b[0m anndata_fields \u001b[38;5;241m=\u001b[39m [\n\u001b[1;32m    770\u001b[0m     LayerField(REGISTRY_KEYS\u001b[38;5;241m.\u001b[39mX_KEY, \u001b[38;5;28;01mNone\u001b[39;00m, is_count_data\u001b[38;5;241m=\u001b[39m\u001b[38;5;28;01mFalse\u001b[39;00m),\n\u001b[1;32m    771\u001b[0m     CategoricalObsField(REGISTRY_KEYS\u001b[38;5;241m.\u001b[39mBATCH_KEY, batch_key),\n\u001b[1;32m    772\u001b[0m     CategoricalObsField(REGISTRY_KEYS\u001b[38;5;241m.\u001b[39mLABELS_KEY, labels_key),\n\u001b[1;32m    773\u001b[0m ]\n\u001b[1;32m    774\u001b[0m adata_manager \u001b[38;5;241m=\u001b[39m AnnDataManager(\n\u001b[1;32m    775\u001b[0m     fields\u001b[38;5;241m=\u001b[39manndata_fields, setup_method_args\u001b[38;5;241m=\u001b[39msetup_method_args\n\u001b[1;32m    776\u001b[0m )\n\u001b[0;32m--> 777\u001b[0m \u001b[43madata_manager\u001b[49m\u001b[38;5;241;43m.\u001b[39;49m\u001b[43mregister_fields\u001b[49m\u001b[43m(\u001b[49m\u001b[43madata\u001b[49m\u001b[43m,\u001b[49m\u001b[43m \u001b[49m\u001b[38;5;241;43m*\u001b[39;49m\u001b[38;5;241;43m*\u001b[39;49m\u001b[43mkwargs\u001b[49m\u001b[43m)\u001b[49m\n\u001b[1;32m    778\u001b[0m \u001b[38;5;28mcls\u001b[39m\u001b[38;5;241m.\u001b[39mregister_manager(adata_manager)\n",
      "File \u001b[0;32m~/anaconda3/envs/scvi-env2/lib/python3.9/site-packages/scvi/data/_manager.py:166\u001b[0m, in \u001b[0;36mAnnDataManager.register_fields\u001b[0;34m(self, adata, source_registry, **transfer_kwargs)\u001b[0m\n\u001b[1;32m    154\u001b[0m         field_registry[\n\u001b[1;32m    155\u001b[0m             _constants\u001b[38;5;241m.\u001b[39m_STATE_REGISTRY_KEY\n\u001b[1;32m    156\u001b[0m         ] \u001b[38;5;241m=\u001b[39m field\u001b[38;5;241m.\u001b[39mtransfer_field(\n\u001b[0;32m   (...)\u001b[0m\n\u001b[1;32m    161\u001b[0m             \u001b[38;5;241m*\u001b[39m\u001b[38;5;241m*\u001b[39mtransfer_kwargs,\n\u001b[1;32m    162\u001b[0m         )\n\u001b[1;32m    163\u001b[0m     \u001b[38;5;28;01melse\u001b[39;00m:\n\u001b[1;32m    164\u001b[0m         field_registry[\n\u001b[1;32m    165\u001b[0m             _constants\u001b[38;5;241m.\u001b[39m_STATE_REGISTRY_KEY\n\u001b[0;32m--> 166\u001b[0m         ] \u001b[38;5;241m=\u001b[39m \u001b[43mfield\u001b[49m\u001b[38;5;241;43m.\u001b[39;49m\u001b[43mregister_field\u001b[49m\u001b[43m(\u001b[49m\u001b[43madata\u001b[49m\u001b[43m)\u001b[49m\n\u001b[1;32m    168\u001b[0m \u001b[38;5;66;03m# Compute and set summary stats for the given field.\u001b[39;00m\n\u001b[1;32m    169\u001b[0m state_registry \u001b[38;5;241m=\u001b[39m field_registry[_constants\u001b[38;5;241m.\u001b[39m_STATE_REGISTRY_KEY]\n",
      "File \u001b[0;32m~/anaconda3/envs/scvi-env2/lib/python3.9/site-packages/scvi/data/fields/_obs_field.py:136\u001b[0m, in \u001b[0;36mCategoricalObsField.register_field\u001b[0;34m(self, adata)\u001b[0m\n\u001b[1;32m    133\u001b[0m \u001b[38;5;28;01mif\u001b[39;00m \u001b[38;5;28mself\u001b[39m\u001b[38;5;241m.\u001b[39mis_default:\n\u001b[1;32m    134\u001b[0m     \u001b[38;5;28mself\u001b[39m\u001b[38;5;241m.\u001b[39m_setup_default_attr(adata)\n\u001b[0;32m--> 136\u001b[0m \u001b[38;5;28;43msuper\u001b[39;49m\u001b[43m(\u001b[49m\u001b[43m)\u001b[49m\u001b[38;5;241;43m.\u001b[39;49m\u001b[43mregister_field\u001b[49m\u001b[43m(\u001b[49m\u001b[43madata\u001b[49m\u001b[43m)\u001b[49m\n\u001b[1;32m    137\u001b[0m categorical_mapping \u001b[38;5;241m=\u001b[39m _make_column_categorical(\n\u001b[1;32m    138\u001b[0m     adata\u001b[38;5;241m.\u001b[39mobs,\n\u001b[1;32m    139\u001b[0m     \u001b[38;5;28mself\u001b[39m\u001b[38;5;241m.\u001b[39m_original_attr_key,\n\u001b[1;32m    140\u001b[0m     \u001b[38;5;28mself\u001b[39m\u001b[38;5;241m.\u001b[39mattr_key,\n\u001b[1;32m    141\u001b[0m )\n\u001b[1;32m    142\u001b[0m \u001b[38;5;28;01mreturn\u001b[39;00m {\n\u001b[1;32m    143\u001b[0m     \u001b[38;5;28mself\u001b[39m\u001b[38;5;241m.\u001b[39mCATEGORICAL_MAPPING_KEY: categorical_mapping,\n\u001b[1;32m    144\u001b[0m     \u001b[38;5;28mself\u001b[39m\u001b[38;5;241m.\u001b[39mORIGINAL_ATTR_KEY: \u001b[38;5;28mself\u001b[39m\u001b[38;5;241m.\u001b[39m_original_attr_key,\n\u001b[1;32m    145\u001b[0m }\n",
      "File \u001b[0;32m~/anaconda3/envs/scvi-env2/lib/python3.9/site-packages/scvi/data/fields/_base_field.py:62\u001b[0m, in \u001b[0;36mBaseAnnDataField.register_field\u001b[0;34m(self, adata)\u001b[0m\n\u001b[1;32m     51\u001b[0m \u001b[38;5;129m@abstractmethod\u001b[39m\n\u001b[1;32m     52\u001b[0m \u001b[38;5;28;01mdef\u001b[39;00m \u001b[38;5;21mregister_field\u001b[39m(\u001b[38;5;28mself\u001b[39m, adata: AnnData) \u001b[38;5;241m-\u001b[39m\u001b[38;5;241m>\u001b[39m \u001b[38;5;28mdict\u001b[39m:\n\u001b[1;32m     53\u001b[0m     \u001b[38;5;124;03m\"\"\"\u001b[39;00m\n\u001b[1;32m     54\u001b[0m \u001b[38;5;124;03m    Sets up the AnnData object and creates a mapping for scvi-tools models to use.\u001b[39;00m\n\u001b[1;32m     55\u001b[0m \n\u001b[0;32m   (...)\u001b[0m\n\u001b[1;32m     60\u001b[0m \u001b[38;5;124;03m        stored directly on the AnnData object.\u001b[39;00m\n\u001b[1;32m     61\u001b[0m \u001b[38;5;124;03m    \"\"\"\u001b[39;00m\n\u001b[0;32m---> 62\u001b[0m     \u001b[38;5;28;43mself\u001b[39;49m\u001b[38;5;241;43m.\u001b[39;49m\u001b[43mvalidate_field\u001b[49m\u001b[43m(\u001b[49m\u001b[43madata\u001b[49m\u001b[43m)\u001b[49m\n\u001b[1;32m     63\u001b[0m     \u001b[38;5;28;01mreturn\u001b[39;00m \u001b[38;5;28mdict\u001b[39m()\n",
      "File \u001b[0;32m~/anaconda3/envs/scvi-env2/lib/python3.9/site-packages/scvi/data/fields/_obs_field.py:130\u001b[0m, in \u001b[0;36mCategoricalObsField.validate_field\u001b[0;34m(self, adata)\u001b[0m\n\u001b[1;32m    128\u001b[0m \u001b[38;5;28msuper\u001b[39m()\u001b[38;5;241m.\u001b[39mvalidate_field(adata)\n\u001b[1;32m    129\u001b[0m \u001b[38;5;28;01mif\u001b[39;00m \u001b[38;5;28mself\u001b[39m\u001b[38;5;241m.\u001b[39m_original_attr_key \u001b[38;5;129;01mnot\u001b[39;00m \u001b[38;5;129;01min\u001b[39;00m adata\u001b[38;5;241m.\u001b[39mobs:\n\u001b[0;32m--> 130\u001b[0m     \u001b[38;5;28;01mraise\u001b[39;00m \u001b[38;5;167;01mKeyError\u001b[39;00m(\u001b[38;5;124mf\u001b[39m\u001b[38;5;124m\"\u001b[39m\u001b[38;5;132;01m{\u001b[39;00m\u001b[38;5;28mself\u001b[39m\u001b[38;5;241m.\u001b[39m_original_attr_key\u001b[38;5;132;01m}\u001b[39;00m\u001b[38;5;124m not found in adata.obs.\u001b[39m\u001b[38;5;124m\"\u001b[39m)\n",
      "\u001b[0;31mKeyError\u001b[0m: 'tech not found in adata.obs.'"
     ]
    }
   ],
   "source": [
    "for path in raw_ad_file_paths:\n",
    "    adata = sc.read(path)\n",
    "    # train scgen\n",
    "    scgen.SCGEN.setup_anndata(adata, batch_key=\"tech\", labels_key=\"celltype\")\n",
    "    model = scgen.SCGEN(adata)\n",
    "    model.save(\"../../results/scgen_batch_removal.pt\", overwrite=True, save_anndata = True)\n",
    "    model.train(\n",
    "        max_epochs = 100,\n",
    "        batch_size = 32,\n",
    "        early_stopping = True,\n",
    "        early_stopping_patience = 25,\n",
    "    )\n",
    "    \n",
    "    res = model.batch_removal()\n",
    "    pcr = scib.me.pcr_comparison(adata_pre = adata, adata_post = res, covariate = \"celltype\")\n",
    "    nmi = scib.me.nmi(adata = res, group1 = \"tech\",  group2 = \"celltype\")\n",
    "    ari = scib.me.ari(adata = res, group1 = \"tech\",  group2 = \"celltype\")\n",
    "\n",
    "    int_metrics.loc[len(int_metrics.index)] = [\"path\", \"human_pancreas_norm_complexBatch\", \"raw\", \"0\", \"0\", \"0\",\n",
    "                         \"scgen\", \"pcr\", pcr]\n",
    "    int_metrics.loc[len(int_metrics.index)] = [\"path\", \"human_pancreas_norm_complexBatch\", \"raw\", \"0\", \"0\", \"0\",\n",
    "                         \"scgen\", \"nmi\", nmi]\n",
    "    int_metrics.loc[len(int_metrics.index)] = [\"path\", \"human_pancreas_norm_complexBatch\",  \"raw\", \"0\", \"0\", \"0\",\n",
    "                                       \"scgen\", \"pcr\", ari]         \n",
    "    print(int_metrics)\n",
    "    int_metrics.to_csv(\"scgen.csv\")"
   ]
  }
 ],
 "metadata": {
  "kernelspec": {
   "display_name": "Python 3",
   "language": "python",
   "name": "python3"
  },
  "language_info": {
   "codemirror_mode": {
    "name": "ipython",
    "version": 3
   },
   "file_extension": ".py",
   "mimetype": "text/x-python",
   "name": "python",
   "nbconvert_exporter": "python",
   "pygments_lexer": "ipython3",
   "version": "3.7.0"
  }
 },
 "nbformat": 4,
 "nbformat_minor": 5
}
